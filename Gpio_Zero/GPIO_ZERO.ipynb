{
  "nbformat": 4,
  "nbformat_minor": 0,
  "metadata": {
    "colab": {
      "name": "GPIO_ZERO.ipynb",
      "provenance": [],
      "authorship_tag": "ABX9TyPqfE4uBXamFfz2CF2sIsy+",
      "include_colab_link": true
    },
    "kernelspec": {
      "name": "python3",
      "display_name": "Python 3"
    },
    "language_info": {
      "name": "python"
    }
  },
  "cells": [
    {
      "cell_type": "markdown",
      "metadata": {
        "id": "view-in-github",
        "colab_type": "text"
      },
      "source": [
        "<a href=\"https://colab.research.google.com/github/TebanRiveros/TareasPython/blob/main/Gpio_Zero/GPIO_ZERO.ipynb\" target=\"_parent\"><img src=\"https://colab.research.google.com/assets/colab-badge.svg\" alt=\"Open In Colab\"/></a>"
      ]
    },
    {
      "cell_type": "markdown",
      "metadata": {
        "id": "JB_NK-Wjpl9D"
      },
      "source": [
        "## Sergio Esteban Riveros Mendoza 20191005117\n",
        "## GPIO_ZERO"
      ]
    },
    {
      "cell_type": "code",
      "metadata": {
        "id": "ZFY1gS9Updmo"
      },
      "source": [
        "from gpiozero import Button\n",
        "from gpiozero import LED\n",
        "from signal import pause\n",
        "\n",
        "BtnR=Button(2)\n",
        "BtnG=Button(3)\n",
        "BtnB=Button(4)\n",
        "\n",
        "LedRojo=LED(14, initial_value= False)\n",
        "LedVerde=LED(15, initial_value= False)\n",
        "LedAzul=LED(18, initial_value= False)\n",
        "\n",
        "def caLR():\n",
        "  LedRojo.toggle()\n",
        "\n",
        "def caLV():\n",
        "  LedVerde.toggle()\n",
        "\n",
        "def caLA():\n",
        "  LedAzul.toggle()\n",
        "\n",
        "def paBR():\n",
        "  LedRojo.blink(on_time=1.5, off_time=1.5,n=10)\n",
        "\n",
        "def paBV():\n",
        "  LedVerde.blink(on_time=1.5, off_time=1.5,n=10)\n",
        "\n",
        "def paBA():\n",
        "  LedAzul.blink(on_time=1.5, off_time=1.5,n=10)\n",
        "\n",
        "try:\n",
        "  BtnR.when_pressed=caLR\n",
        "  BtnG.when_pressed=caLV\n",
        "  BtnB.when_pressed=caLA\n",
        "  BtnR.when_held=paBR\n",
        "  BtnG.when_held=paBV\n",
        "  BtnB.when_held=paBA\n",
        "  pause()\n",
        "finally:\n",
        "  pass"
      ],
      "execution_count": null,
      "outputs": []
    }
  ]
}