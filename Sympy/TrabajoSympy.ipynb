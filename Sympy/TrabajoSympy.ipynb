{
  "nbformat": 4,
  "nbformat_minor": 0,
  "metadata": {
    "colab": {
      "name": "TrabajoSympy2.ipynb",
      "provenance": [],
      "authorship_tag": "ABX9TyPxohmwAGqd0/NGEVkk9JNF",
      "include_colab_link": true
    },
    "kernelspec": {
      "name": "python3",
      "display_name": "Python 3"
    },
    "language_info": {
      "name": "python"
    }
  },
  "cells": [
    {
      "cell_type": "markdown",
      "metadata": {
        "id": "view-in-github",
        "colab_type": "text"
      },
      "source": [
        "<a href=\"https://colab.research.google.com/github/TebanRiveros/TareasPython/blob/main/Sympy/TrabajoSympy.ipynb\" target=\"_parent\"><img src=\"https://colab.research.google.com/assets/colab-badge.svg\" alt=\"Open In Colab\"/></a>"
      ]
    },
    {
      "cell_type": "markdown",
      "metadata": {
        "id": "3-bWNJg_iVIq"
      },
      "source": [
        "## Sergio Esteban Riveros Mendoza 20191005117\n",
        "## Sympy"
      ]
    },
    {
      "cell_type": "markdown",
      "metadata": {
        "id": "sFPRkJULi0QR"
      },
      "source": [
        "# primer punto"
      ]
    },
    {
      "cell_type": "code",
      "metadata": {
        "id": "Qbo0R4Kdjxna",
        "colab": {
          "base_uri": "https://localhost:8080/"
        },
        "outputId": "286acc8e-b70e-4098-8faf-57233eff85a9"
      },
      "source": [
        "from sympy import init_session\n",
        "init_session(use_latex=True)"
      ],
      "execution_count": 1,
      "outputs": [
        {
          "output_type": "stream",
          "name": "stdout",
          "text": [
            "IPython console for SymPy 1.7.1 (Python 3.7.11-64-bit) (ground types: python)\n",
            "\n",
            "These commands were executed:\n",
            ">>> from __future__ import division\n",
            ">>> from sympy import *\n",
            ">>> x, y, z, t = symbols('x y z t')\n",
            ">>> k, m, n = symbols('k m n', integer=True)\n",
            ">>> f, g, h = symbols('f g h', cls=Function)\n",
            ">>> init_printing()\n",
            "\n",
            "Documentation can be found at https://docs.sympy.org/1.7.1/\n",
            "\n"
          ]
        }
      ]
    },
    {
      "cell_type": "code",
      "metadata": {
        "colab": {
          "base_uri": "https://localhost:8080/",
          "height": 38
        },
        "id": "Cjw2H2fx4eqb",
        "outputId": "ac308a57-6770-4a02-ac97-04f651c62758"
      },
      "source": [
        "a=2*x**4+34*x**3+23\n",
        "a"
      ],
      "execution_count": 7,
      "outputs": [
        {
          "output_type": "execute_result",
          "data": {
            "image/png": "[encoded data removed]",
            "text/latex": "$\\displaystyle 2 x^{4} + 34 x^{3} + 23$",
            "text/plain": [
              "   4       3     \n",
              "2⋅x  + 34⋅x  + 23"
            ]
          },
          "metadata": {},
          "execution_count": 7
        }
      ]
    },
    {
      "cell_type": "code",
      "metadata": {
        "colab": {
          "base_uri": "https://localhost:8080/",
          "height": 54
        },
        "id": "1cEspdL85ZBa",
        "outputId": "e4c7f0b4-efec-408b-a2b7-a402d22c07d0"
      },
      "source": [
        "Derivative(a,x,x)"
      ],
      "execution_count": 10,
      "outputs": [
        {
          "output_type": "execute_result",
          "data": {
            "image/png": "[encoded data removed]",
            "text/latex": "$\\displaystyle \\frac{d^{2}}{d x^{2}} \\left(2 x^{4} + 34 x^{3} + 23\\right)$",
            "text/plain": [
              "  2                   \n",
              " d ⎛   4       3     ⎞\n",
              "───⎝2⋅x  + 34⋅x  + 23⎠\n",
              "  2                   \n",
              "dx                    "
            ]
          },
          "metadata": {},
          "execution_count": 10
        }
      ]
    },
    {
      "cell_type": "code",
      "metadata": {
        "colab": {
          "base_uri": "https://localhost:8080/",
          "height": 38
        },
        "id": "vS5ymT7y6nY0",
        "outputId": "6a44c663-7312-4b63-b20f-b349c6b6d6f9"
      },
      "source": [
        "diff(a,x,x)"
      ],
      "execution_count": 11,
      "outputs": [
        {
          "output_type": "execute_result",
          "data": {
            "image/png": "[encoded data removed]",
            "text/latex": "$\\displaystyle 12 x \\left(2 x + 17\\right)$",
            "text/plain": [
              "12⋅x⋅(2⋅x + 17)"
            ]
          },
          "metadata": {},
          "execution_count": 11
        }
      ]
    },
    {
      "cell_type": "code",
      "metadata": {
        "colab": {
          "base_uri": "https://localhost:8080/",
          "height": 38
        },
        "id": "kbzm1OFf6zIb",
        "outputId": "6f6a16ab-bb02-49ae-c28c-dc14a5d93a1b"
      },
      "source": [
        "b=x*ln(x)\n",
        "b"
      ],
      "execution_count": 13,
      "outputs": [
        {
          "output_type": "execute_result",
          "data": {
            "image/png": "[encoded data removed]",
            "text/latex": "$\\displaystyle x \\log{\\left(x \\right)}$",
            "text/plain": [
              "x⋅log(x)"
            ]
          },
          "metadata": {},
          "execution_count": 13
        }
      ]
    },
    {
      "cell_type": "code",
      "metadata": {
        "colab": {
          "base_uri": "https://localhost:8080/",
          "height": 52
        },
        "id": "f2bnAuzo7Cv6",
        "outputId": "3e73ecb0-0cfa-41e6-c9d1-ee061c1b8989"
      },
      "source": [
        "Derivative(b,x)"
      ],
      "execution_count": 15,
      "outputs": [
        {
          "output_type": "execute_result",
          "data": {
            "image/png": "[encoded data removed]",
            "text/latex": "$\\displaystyle \\frac{d}{d x} x \\log{\\left(x \\right)}$",
            "text/plain": [
              "d           \n",
              "──(x⋅log(x))\n",
              "dx          "
            ]
          },
          "metadata": {},
          "execution_count": 15
        }
      ]
    },
    {
      "cell_type": "code",
      "metadata": {
        "colab": {
          "base_uri": "https://localhost:8080/",
          "height": 38
        },
        "id": "-9iVYbYN69fl",
        "outputId": "f4ecc00e-b3e3-4e70-ae89-c339e8fbeacb"
      },
      "source": [
        "diff(b,x)"
      ],
      "execution_count": 14,
      "outputs": [
        {
          "output_type": "execute_result",
          "data": {
            "image/png": "[encoded data removed]",
            "text/latex": "$\\displaystyle \\log{\\left(x \\right)} + 1$",
            "text/plain": [
              "log(x) + 1"
            ]
          },
          "metadata": {},
          "execution_count": 14
        }
      ]
    },
    {
      "cell_type": "markdown",
      "metadata": {
        "id": "wD9td6Ey75DX"
      },
      "source": [
        "# Segundo Punto"
      ]
    },
    {
      "cell_type": "code",
      "metadata": {
        "colab": {
          "base_uri": "https://localhost:8080/",
          "height": 58
        },
        "id": "ZQEtOVT_79VX",
        "outputId": "6057a810-6bd4-4894-b0c6-df291468b3dc"
      },
      "source": [
        "c=cos(x**4/(y+1))\n",
        "c"
      ],
      "execution_count": 17,
      "outputs": [
        {
          "output_type": "execute_result",
          "data": {
            "image/png": "[encoded data removed]",
            "text/latex": "$\\displaystyle \\cos{\\left(\\frac{x^{4}}{y + 1} \\right)}$",
            "text/plain": [
              "   ⎛   4 ⎞\n",
              "   ⎜  x  ⎟\n",
              "cos⎜─────⎟\n",
              "   ⎝y + 1⎠"
            ]
          },
          "metadata": {},
          "execution_count": 17
        }
      ]
    },
    {
      "cell_type": "code",
      "metadata": {
        "colab": {
          "base_uri": "https://localhost:8080/",
          "height": 58
        },
        "id": "xQZ6_aG78i-_",
        "outputId": "aef55741-907d-4aa8-8421-7f0df2c8ca6b"
      },
      "source": [
        "expand(c)"
      ],
      "execution_count": 18,
      "outputs": [
        {
          "output_type": "execute_result",
          "data": {
            "image/png": "[encoded data removed]",
            "text/latex": "$\\displaystyle \\cos{\\left(\\frac{x^{4}}{y + 1} \\right)}$",
            "text/plain": [
              "   ⎛   4 ⎞\n",
              "   ⎜  x  ⎟\n",
              "cos⎜─────⎟\n",
              "   ⎝y + 1⎠"
            ]
          },
          "metadata": {},
          "execution_count": 18
        }
      ]
    },
    {
      "cell_type": "code",
      "metadata": {
        "colab": {
          "base_uri": "https://localhost:8080/",
          "height": 38
        },
        "id": "o1u7-HGE8_2-",
        "outputId": "65cb72dd-ba57-47dd-86b5-b4f75094671a"
      },
      "source": [
        "d=x**2+6*x+9\n",
        "d"
      ],
      "execution_count": 19,
      "outputs": [
        {
          "output_type": "execute_result",
          "data": {
            "image/png": "[encoded data removed]",
            "text/latex": "$\\displaystyle x^{2} + 6 x + 9$",
            "text/plain": [
              " 2          \n",
              "x  + 6⋅x + 9"
            ]
          },
          "metadata": {},
          "execution_count": 19
        }
      ]
    },
    {
      "cell_type": "code",
      "metadata": {
        "colab": {
          "base_uri": "https://localhost:8080/",
          "height": 39
        },
        "id": "CtdAMzf79JIN",
        "outputId": "af0c4a37-2e24-448e-8182-f548ddc89e2e"
      },
      "source": [
        "factor(d)"
      ],
      "execution_count": 20,
      "outputs": [
        {
          "output_type": "execute_result",
          "data": {
            "image/png": "[encoded data removed]",
            "text/latex": "$\\displaystyle \\left(x + 3\\right)^{2}$",
            "text/plain": [
              "       2\n",
              "(x + 3) "
            ]
          },
          "metadata": {},
          "execution_count": 20
        }
      ]
    },
    {
      "cell_type": "markdown",
      "metadata": {
        "id": "N4xfUFLu9ehD"
      },
      "source": [
        "# Tercer Punto"
      ]
    },
    {
      "cell_type": "code",
      "metadata": {
        "colab": {
          "base_uri": "https://localhost:8080/",
          "height": 55
        },
        "id": "oYVlr8uE9g7o",
        "outputId": "6ede8d4b-57dc-425a-df5c-c17b85ca66ae"
      },
      "source": [
        "e=(2*x+1)*(x**2+x+1)\n",
        "Integral(e)"
      ],
      "execution_count": 23,
      "outputs": [
        {
          "output_type": "execute_result",
          "data": {
            "image/png": "[encoded data removed]",
            "text/latex": "$\\displaystyle \\int \\left(2 x + 1\\right) \\left(x^{2} + x + 1\\right)\\, dx$",
            "text/plain": [
              "⌠                          \n",
              "⎮           ⎛ 2        ⎞   \n",
              "⎮ (2⋅x + 1)⋅⎝x  + x + 1⎠ dx\n",
              "⌡                          "
            ]
          },
          "metadata": {},
          "execution_count": 23
        }
      ]
    },
    {
      "cell_type": "code",
      "metadata": {
        "colab": {
          "base_uri": "https://localhost:8080/",
          "height": 54
        },
        "id": "N95lfio9-1ea",
        "outputId": "66f1c199-2748-44b3-8550-dada28857c5d"
      },
      "source": [
        "integrate(e)"
      ],
      "execution_count": 24,
      "outputs": [
        {
          "output_type": "execute_result",
          "data": {
            "image/png": "[encoded data removed]",
            "text/latex": "$\\displaystyle \\frac{x^{4}}{2} + x^{3} + \\frac{3 x^{2}}{2} + x$",
            "text/plain": [
              " 4           2    \n",
              "x     3   3⋅x     \n",
              "── + x  + ──── + x\n",
              "2          2      "
            ]
          },
          "metadata": {},
          "execution_count": 24
        }
      ]
    },
    {
      "cell_type": "code",
      "metadata": {
        "colab": {
          "base_uri": "https://localhost:8080/",
          "height": 37
        },
        "id": "A86R_Zr9_cEN",
        "outputId": "057be532-a39a-4ba6-82f2-f6b400635830"
      },
      "source": [
        "integrate(e, (x, 0, 10))"
      ],
      "execution_count": 25,
      "outputs": [
        {
          "output_type": "execute_result",
          "data": {
            "image/png": "[encoded data removed]",
            "text/latex": "$\\displaystyle 6160$",
            "text/plain": [
              "6160"
            ]
          },
          "metadata": {},
          "execution_count": 25
        }
      ]
    },
    {
      "cell_type": "markdown",
      "metadata": {
        "id": "KBA34FNRAW9m"
      },
      "source": [
        "# Cuarto Punto"
      ]
    },
    {
      "cell_type": "code",
      "metadata": {
        "colab": {
          "base_uri": "https://localhost:8080/",
          "height": 78
        },
        "id": "xPpPJxfuAWdf",
        "outputId": "fbc990a9-5329-49de-d877-c74cc8aa65b5"
      },
      "source": [
        "f=Matrix([[12,-34,-45],[-34,-23,100],[45,12,23]])\n",
        "f"
      ],
      "execution_count": 27,
      "outputs": [
        {
          "output_type": "execute_result",
          "data": {
            "text/latex": "$\\displaystyle \\left[\\begin{matrix}12 & -34 & -45\\\\-34 & -23 & 100\\\\45 & 12 & 23\\end{matrix}\\right]$",
            "text/plain": [
              "⎡12   -34  -45⎤\n",
              "⎢             ⎥\n",
              "⎢-34  -23  100⎥\n",
              "⎢             ⎥\n",
              "⎣45   12   23 ⎦"
            ]
          },
          "metadata": {},
          "execution_count": 27
        }
      ]
    },
    {
      "cell_type": "code",
      "metadata": {
        "colab": {
          "base_uri": "https://localhost:8080/",
          "height": 78
        },
        "id": "Wkil7S6TExgU",
        "outputId": "44dbd254-5645-42a3-bf85-687acbd4bff2"
      },
      "source": [
        "f.inv()"
      ],
      "execution_count": 28,
      "outputs": [
        {
          "output_type": "execute_result",
          "data": {
            "text/latex": "$\\displaystyle \\left[\\begin{matrix}\\frac{91}{12029} & - \\frac{242}{228551} & \\frac{4435}{228551}\\\\- \\frac{278}{12029} & - \\frac{2301}{228551} & - \\frac{330}{228551}\\\\- \\frac{33}{12029} & \\frac{1674}{228551} & \\frac{1432}{228551}\\end{matrix}\\right]$",
            "text/plain": [
              "⎡  91   -242     4435 ⎤\n",
              "⎢─────  ──────  ──────⎥\n",
              "⎢12029  228551  228551⎥\n",
              "⎢                     ⎥\n",
              "⎢-278   -2301   -330  ⎥\n",
              "⎢─────  ──────  ──────⎥\n",
              "⎢12029  228551  228551⎥\n",
              "⎢                     ⎥\n",
              "⎢ -33    1674    1432 ⎥\n",
              "⎢─────  ──────  ──────⎥\n",
              "⎣12029  228551  228551⎦"
            ]
          },
          "metadata": {},
          "execution_count": 28
        }
      ]
    },
    {
      "cell_type": "code",
      "metadata": {
        "colab": {
          "base_uri": "https://localhost:8080/",
          "height": 37
        },
        "id": "u4gA75FgFGn0",
        "outputId": "5f37926c-66a7-4e14-8767-77cdbe5bd024"
      },
      "source": [
        "f.det()"
      ],
      "execution_count": 29,
      "outputs": [
        {
          "output_type": "execute_result",
          "data": {
            "image/png": "[encoded data removed]",
            "text/latex": "$\\displaystyle -228551$",
            "text/plain": [
              "-228551"
            ]
          },
          "metadata": {},
          "execution_count": 29
        }
      ]
    },
    {
      "cell_type": "code",
      "metadata": {
        "colab": {
          "base_uri": "https://localhost:8080/",
          "height": 78
        },
        "id": "KvK6lWofFMal",
        "outputId": "0f5e0411-a452-4a15-df7b-850872c41eb0"
      },
      "source": [
        "f.T"
      ],
      "execution_count": 31,
      "outputs": [
        {
          "output_type": "execute_result",
          "data": {
            "text/latex": "$\\displaystyle \\left[\\begin{matrix}12 & -34 & 45\\\\-34 & -23 & 12\\\\-45 & 100 & 23\\end{matrix}\\right]$",
            "text/plain": [
              "⎡12   -34  45⎤\n",
              "⎢            ⎥\n",
              "⎢-34  -23  12⎥\n",
              "⎢            ⎥\n",
              "⎣-45  100  23⎦"
            ]
          },
          "metadata": {},
          "execution_count": 31
        }
      ]
    }
  ]
}