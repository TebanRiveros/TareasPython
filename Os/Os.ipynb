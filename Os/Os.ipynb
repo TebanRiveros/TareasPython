{
  "nbformat": 4,
  "nbformat_minor": 0,
  "metadata": {
    "colab": {
      "name": "Os.ipynb",
      "provenance": [],
      "authorship_tag": "ABX9TyPuLtds4BGATPjEcicEtTDc",
      "include_colab_link": true
    },
    "kernelspec": {
      "name": "python3",
      "display_name": "Python 3"
    },
    "language_info": {
      "name": "python"
    }
  },
  "cells": [
    {
      "cell_type": "markdown",
      "metadata": {
        "id": "view-in-github",
        "colab_type": "text"
      },
      "source": [
        "<a href=\"https://colab.research.google.com/github/TebanRiveros/TareasPython/blob/main/Os/Os.ipynb\" target=\"_parent\"><img src=\"https://colab.research.google.com/assets/colab-badge.svg\" alt=\"Open In Colab\"/></a>"
      ]
    },
    {
      "cell_type": "markdown",
      "metadata": {
        "id": "IhpAITKkieuq"
      },
      "source": [
        "## Sergio Esteban RIveros Mendoza\n",
        "# 20191005117"
      ]
    },
    {
      "cell_type": "markdown",
      "metadata": {
        "id": "RuAFWXAMbiWj"
      },
      "source": [
        "1. Verifique cuál es la ruta principal sobre la que se encuentra trabajando."
      ]
    },
    {
      "cell_type": "code",
      "metadata": {
        "colab": {
          "base_uri": "https://localhost:8080/",
          "height": 35
        },
        "id": "LhalEu1ObY-Y",
        "outputId": "34d14b67-7aed-49df-c42b-d514bc849175"
      },
      "source": [
        "import os\n",
        "import sys\n",
        "os.getcwd()"
      ],
      "execution_count": 1,
      "outputs": [
        {
          "output_type": "execute_result",
          "data": {
            "application/vnd.google.colaboratory.intrinsic+json": {
              "type": "string"
            },
            "text/plain": [
              "'/content'"
            ]
          },
          "metadata": {},
          "execution_count": 1
        }
      ]
    },
    {
      "cell_type": "markdown",
      "metadata": {
        "id": "0PDdX-vPbgB7"
      },
      "source": [
        "2. Cree tres directorios (Contendrá los nombres de módulo1, módulo2, módulo3), los cuales contengan 1 archivos y un subdirectorio cada uno. (comentario1, comentario2, etc. para los archivos y observaciones para los subdirectorios)"
      ]
    },
    {
      "cell_type": "code",
      "metadata": {
        "id": "_SkREKGycQIW"
      },
      "source": [
        "os.mkdir('modulo1')\n",
        "os.mkdir('modulo2')\n",
        "os.mkdir('modulo3')\n"
      ],
      "execution_count": 13,
      "outputs": []
    },
    {
      "cell_type": "code",
      "metadata": {
        "id": "d-aanRwKfXvU"
      },
      "source": [
        "os.mkdir('modulo1/comentario1')\n",
        "os.mkdir('modulo2/comentario2')\n",
        "os.mkdir('modulo3/comentario3')"
      ],
      "execution_count": 14,
      "outputs": []
    },
    {
      "cell_type": "code",
      "metadata": {
        "id": "0bzJjH_6go-Q"
      },
      "source": [
        "file = open('modulo1/comentario1/archivo1.txt','a+')\n",
        "file = open('modulo2/comentario2/archivo2.txt','a+')\n",
        "file = open('modulo3/comentario3/archivo1.txt','a+')"
      ],
      "execution_count": 15,
      "outputs": []
    },
    {
      "cell_type": "markdown",
      "metadata": {
        "id": "dS0YDC80hFDC"
      },
      "source": [
        "3. Verifique la lista de directorios contenidos en la ruta principal antes vista."
      ]
    },
    {
      "cell_type": "code",
      "metadata": {
        "colab": {
          "base_uri": "https://localhost:8080/"
        },
        "id": "Ns8s7HhzhOza",
        "outputId": "e4572429-7b67-4b83-e34d-40280ccac3fb"
      },
      "source": [
        "os.listdir()"
      ],
      "execution_count": 16,
      "outputs": [
        {
          "output_type": "execute_result",
          "data": {
            "text/plain": [
              "['.config',\n",
              " 'modulo2',\n",
              " 'modulo3',\n",
              " 'modulo1',\n",
              " '.ipynb_checkpoints',\n",
              " 'sample_data']"
            ]
          },
          "metadata": {},
          "execution_count": 16
        }
      ]
    },
    {
      "cell_type": "markdown",
      "metadata": {
        "id": "crSE12PMh02P"
      },
      "source": [
        "4. Renombre los tres directorios antes creados a Modulación, Transición y CopiadeSeguridad, respectivamente."
      ]
    },
    {
      "cell_type": "code",
      "metadata": {
        "id": "UcWtrGg1h6Ky"
      },
      "source": [
        "os.rename('modulo1','modulacion')\n",
        "os.rename('modulo2','transicion')\n",
        "os.rename('modulo3','copiadeSeguridad')"
      ],
      "execution_count": 17,
      "outputs": []
    },
    {
      "cell_type": "markdown",
      "metadata": {
        "id": "kdhod6SjiKqH"
      },
      "source": [
        "5. Para uno de los tres directorios creados generar la tupla que contiene información general sobre el mismo."
      ]
    },
    {
      "cell_type": "code",
      "metadata": {
        "colab": {
          "base_uri": "https://localhost:8080/"
        },
        "id": "uwghpbauiZGK",
        "outputId": "0a02f078-a3e4-4b09-c465-3a37e1d6d6b6"
      },
      "source": [
        "os.stat('modulacion')"
      ],
      "execution_count": 18,
      "outputs": [
        {
          "output_type": "execute_result",
          "data": {
            "text/plain": [
              "os.stat_result(st_mode=16877, st_ino=6029315, st_dev=50, st_nlink=3, st_uid=0, st_gid=0, st_size=4096, st_atime=1629327755, st_mtime=1629327751, st_ctime=1629328271)"
            ]
          },
          "metadata": {},
          "execution_count": 18
        }
      ]
    }
  ]
}